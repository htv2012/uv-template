{
 "cells": [
  {
   "cell_type": "markdown",
   "id": "e4e7b107-cff1-4114-902d-226f576b56bc",
   "metadata": {},
   "source": [
    "# Sandbox\n",
    "\n",
    "Here is the place to try out ideads"
   ]
  },
  {
   "cell_type": "code",
   "execution_count": null,
   "id": "aca394bb-d0e6-4dd8-b7f9-32f6ae9705da",
   "metadata": {},
   "outputs": [],
   "source": []
  }
 ],
 "metadata": {
  "kernelspec": {
   "display_name": "Python 3 (ipykernel)",
   "language": "python",
   "name": "python3"
  },
  "language_info": {
   "codemirror_mode": {
    "name": "ipython",
    "version": 3
   },
   "file_extension": ".py",
   "mimetype": "text/x-python",
   "name": "python",
   "nbconvert_exporter": "python",
   "pygments_lexer": "ipython3",
   "version": "3.13.2"
  }
 },
 "nbformat": 4,
 "nbformat_minor": 5
}
